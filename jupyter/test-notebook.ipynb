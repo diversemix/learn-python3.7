{
 "cells": [
  {
   "cell_type": "markdown",
   "metadata": {},
   "source": [
    "# Test Notebook\n",
    "This is my first notebook interested to see how things work. This cell is markdown"
   ]
  },
  {
   "cell_type": "code",
   "execution_count": 5,
   "metadata": {},
   "outputs": [
    {
     "name": "stdout",
     "output_type": "stream",
     "text": [
      "{1, 2, 3, 4, 5}\n"
     ]
    }
   ],
   "source": [
    "a = {1, 2, 3}\n",
    "b = {3 ,4 ,5}\n",
    "c = {*a, *b}\n",
    "print(c)"
   ]
  },
  {
   "cell_type": "markdown",
   "metadata": {},
   "source": [
    "## A bit of matplotlib\n",
    "\n",
    "This is a plot of the $sinc$ function\n",
    "\n",
    "$$\n",
    "f(x)= \\frac{sin(x)}{x}\n",
    "$$"
   ]
  },
  {
   "cell_type": "code",
   "execution_count": 1,
   "metadata": {},
   "outputs": [
    {
     "data": {
      "image/png": "[encoded data removed]",
      "text/plain": [
       "<Figure size 432x288 with 1 Axes>"
      ]
     },
     "metadata": {
      "needs_background": "light"
     },
     "output_type": "display_data"
    }
   ],
   "source": [
    "%matplotlib inline \n",
    "import matplotlib.pyplot as plt\n",
    "import numpy as np\n",
    "\n",
    "pi = np.pi\n",
    "x = np.linspace(-8*pi, 8*pi, 200)\n",
    "\n",
    "plt.plot(x, np.sin(x)/x)\n",
    "plt.show()"
   ]
  },
  {
   "cell_type": "code",
   "execution_count": 2,
   "metadata": {},
   "outputs": [
    {
     "name": "stdout",
     "output_type": "stream",
     "text": [
      "two\n"
     ]
    }
   ],
   "source": [
    "num_to_string = {\n",
    "    1: 'one',\n",
    "    2: 'two',\n",
    "    3: 'three'\n",
    "}\n",
    "print(num_to_string[2])"
   ]
  },
  {
   "cell_type": "code",
   "execution_count": 9,
   "metadata": {},
   "outputs": [
    {
     "name": "stdout",
     "output_type": "stream",
     "text": [
      "🐄\n",
      "Moo\n"
     ]
    }
   ],
   "source": [
    "from functools import singledispatch\n",
    "\n",
    "class Animal:\n",
    "\n",
    "    def __init__(self, sound):\n",
    "        self.sound = sound\n",
    "        \n",
    "    def speak(self):\n",
    "        print(self.sound)\n",
    "\n",
    "class Cow(Animal):\n",
    "\n",
    "    def __init__(self):\n",
    "        super().__init__('Moo')\n",
    "        pass\n",
    "\n",
    "\n",
    "class Sheep(Animal):\n",
    "\n",
    "    def __init__(self):\n",
    "        super().__init__('Baa')\n",
    "        pass\n",
    "\n",
    "\n",
    "class Pig(Animal):\n",
    "\n",
    "    def __init__(self):\n",
    "        super().__init__('Oink')\n",
    "        pass\n",
    "\n",
    "\n",
    "@singledispatch\n",
    "def draw(animal):\n",
    "    raise TypeError(\"Don't know how to draw {!r}\".format(animal))\n",
    "\n",
    "@draw.register(Cow)\n",
    "def _(animal):\n",
    "    print(u\"\\U0001F404\")\n",
    "\n",
    "@draw.register(Sheep)\n",
    "def _(animal):\n",
    "    print(u\"\\U0001F411\")\n",
    "\n",
    "@draw.register(Pig)\n",
    "def _(animal):\n",
    "    print(u\"\\U0001F416\")\n",
    "\n",
    "p = Cow()\n",
    "draw(p)\n",
    "p.speak()"
   ]
  },
  {
   "cell_type": "code",
   "execution_count": null,
   "metadata": {},
   "outputs": [],
   "source": []
  }
 ],
 "metadata": {
  "kernelspec": {
   "display_name": "Python 3",
   "language": "python",
   "name": "python3"
  },
  "language_info": {
   "codemirror_mode": {
    "name": "ipython",
    "version": 3
   },
   "file_extension": ".py",
   "mimetype": "text/x-python",
   "name": "python",
   "nbconvert_exporter": "python",
   "pygments_lexer": "ipython3",
   "version": "3.7.3"
  }
 },
 "nbformat": 4,
 "nbformat_minor": 4
}
